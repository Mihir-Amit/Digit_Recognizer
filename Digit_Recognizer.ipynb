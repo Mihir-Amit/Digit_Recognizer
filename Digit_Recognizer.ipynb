{
  "metadata": {
    "kernelspec": {
      "language": "python",
      "display_name": "Python 3",
      "name": "python3"
    },
    "language_info": {
      "name": "python",
      "version": "3.10.13",
      "mimetype": "text/x-python",
      "codemirror_mode": {
        "name": "ipython",
        "version": 3
      },
      "pygments_lexer": "ipython3",
      "nbconvert_exporter": "python",
      "file_extension": ".py"
    },
    "kaggle": {
      "accelerator": "none",
      "dataSources": [
        {
          "sourceId": 3004,
          "databundleVersionId": 861823,
          "sourceType": "competition"
        }
      ],
      "dockerImageVersionId": 30646,
      "isInternetEnabled": true,
      "language": "python",
      "sourceType": "notebook",
      "isGpuEnabled": false
    },
    "colab": {
      "name": "Digit Recognizer",
      "provenance": [],
      "include_colab_link": true
    }
  },
  "nbformat_minor": 0,
  "nbformat": 4,
  "cells": [
    {
      "cell_type": "markdown",
      "metadata": {
        "id": "view-in-github",
        "colab_type": "text"
      },
      "source": [
        "<a href=\"https://colab.research.google.com/github/Mihir-Amit/Digit_Recognizer/blob/main/Digit_Recognizer.ipynb\" target=\"_parent\"><img src=\"https://colab.research.google.com/assets/colab-badge.svg\" alt=\"Open In Colab\"/></a>"
      ]
    },
    {
      "source": [
        "\n",
        "# IMPORTANT: RUN THIS CELL IN ORDER TO IMPORT YOUR KAGGLE DATA SOURCES\n",
        "# TO THE CORRECT LOCATION (/kaggle/input) IN YOUR NOTEBOOK,\n",
        "# THEN FEEL FREE TO DELETE THIS CELL.\n",
        "# NOTE: THIS NOTEBOOK ENVIRONMENT DIFFERS FROM KAGGLE'S PYTHON\n",
        "# ENVIRONMENT SO THERE MAY BE MISSING LIBRARIES USED BY YOUR\n",
        "# NOTEBOOK.\n",
        "\n",
        "import os\n",
        "import sys\n",
        "from tempfile import NamedTemporaryFile\n",
        "from urllib.request import urlopen\n",
        "from urllib.parse import unquote, urlparse\n",
        "from urllib.error import HTTPError\n",
        "from zipfile import ZipFile\n",
        "import tarfile\n",
        "import shutil\n",
        "\n",
        "CHUNK_SIZE = 40960\n",
        "DATA_SOURCE_MAPPING = 'digit-recognizer:https%3A%2F%2Fstorage.googleapis.com%2Fkaggle-competitions-data%2Fkaggle-v2%2F3004%2F861823%2Fbundle%2Farchive.zip%3FX-Goog-Algorithm%3DGOOG4-RSA-SHA256%26X-Goog-Credential%3Dgcp-kaggle-com%2540kaggle-161607.iam.gserviceaccount.com%252F20240212%252Fauto%252Fstorage%252Fgoog4_request%26X-Goog-Date%3D20240212T161532Z%26X-Goog-Expires%3D259200%26X-Goog-SignedHeaders%3Dhost%26X-Goog-Signature%3D2aff9b35713a16d23ad61d875652f543d01abff6fd67b4fbc573b822b1186f439ac3a13ead0379a30529df6af5c33ac27c8f5c83dbc02a6ca7be5e0d16ef69e8b142c1c6e741d5d6fc32144d19d37a9a5e11ed2287345ff91a337ea98135f189940124302d2f6626b6352d8a3d22fa34aac5ced06a0d16bf3ebac182944b795b04edf7bd3472ec884a86c77af46094a3041913718ed1da388623712e5e43af0d64fffa43cedb577fd93ff34c0150f0590fc89f9d4afde2475d3043e2abed41a13dbc34a1479c88618644c72d01934a8aa0c2ad339fbc27f6a23fa0a75b2911b21df88750b22c9511fa945705a2901f8a5be0e2fbf5a94310c2d6755998499fbd'\n",
        "\n",
        "KAGGLE_INPUT_PATH='/kaggle/input'\n",
        "KAGGLE_WORKING_PATH='/kaggle/working'\n",
        "KAGGLE_SYMLINK='kaggle'\n",
        "\n",
        "!umount /kaggle/input/ 2> /dev/null\n",
        "shutil.rmtree('/kaggle/input', ignore_errors=True)\n",
        "os.makedirs(KAGGLE_INPUT_PATH, 0o777, exist_ok=True)\n",
        "os.makedirs(KAGGLE_WORKING_PATH, 0o777, exist_ok=True)\n",
        "\n",
        "try:\n",
        "  os.symlink(KAGGLE_INPUT_PATH, os.path.join(\"..\", 'input'), target_is_directory=True)\n",
        "except FileExistsError:\n",
        "  pass\n",
        "try:\n",
        "  os.symlink(KAGGLE_WORKING_PATH, os.path.join(\"..\", 'working'), target_is_directory=True)\n",
        "except FileExistsError:\n",
        "  pass\n",
        "\n",
        "for data_source_mapping in DATA_SOURCE_MAPPING.split(','):\n",
        "    directory, download_url_encoded = data_source_mapping.split(':')\n",
        "    download_url = unquote(download_url_encoded)\n",
        "    filename = urlparse(download_url).path\n",
        "    destination_path = os.path.join(KAGGLE_INPUT_PATH, directory)\n",
        "    try:\n",
        "        with urlopen(download_url) as fileres, NamedTemporaryFile() as tfile:\n",
        "            total_length = fileres.headers['content-length']\n",
        "            print(f'Downloading {directory}, {total_length} bytes compressed')\n",
        "            dl = 0\n",
        "            data = fileres.read(CHUNK_SIZE)\n",
        "            while len(data) > 0:\n",
        "                dl += len(data)\n",
        "                tfile.write(data)\n",
        "                done = int(50 * dl / int(total_length))\n",
        "                sys.stdout.write(f\"\\r[{'=' * done}{' ' * (50-done)}] {dl} bytes downloaded\")\n",
        "                sys.stdout.flush()\n",
        "                data = fileres.read(CHUNK_SIZE)\n",
        "            if filename.endswith('.zip'):\n",
        "              with ZipFile(tfile) as zfile:\n",
        "                zfile.extractall(destination_path)\n",
        "            else:\n",
        "              with tarfile.open(tfile.name) as tarfile:\n",
        "                tarfile.extractall(destination_path)\n",
        "            print(f'\\nDownloaded and uncompressed: {directory}')\n",
        "    except HTTPError as e:\n",
        "        print(f'Failed to load (likely expired) {download_url} to path {destination_path}')\n",
        "        continue\n",
        "    except OSError as e:\n",
        "        print(f'Failed to load {download_url} to path {destination_path}')\n",
        "        continue\n",
        "\n",
        "print('Data source import complete.')\n"
      ],
      "metadata": {
        "id": "_hcyjlULGkZI"
      },
      "cell_type": "code",
      "outputs": [],
      "execution_count": null
    },
    {
      "cell_type": "code",
      "source": [
        "\n",
        "import pandas as pd\n",
        "from tensorflow.keras.utils import to_categorical\n",
        "\n",
        "import os\n",
        "for dirname, _, filenames in os.walk('/kaggle/input'):\n",
        "    for filename in filenames:\n",
        "        print(os.path.join(dirname, filename))"
      ],
      "metadata": {
        "trusted": true,
        "id": "QiLvdvVvGkZL"
      },
      "execution_count": null,
      "outputs": []
    },
    {
      "cell_type": "code",
      "source": [
        "train_data= pd.read_csv('/kaggle/input/digit-recognizer/train.csv')\n",
        "test_data= pd.read_csv('/kaggle/input/digit-recognizer/test.csv')"
      ],
      "metadata": {
        "execution": {
          "iopub.status.busy": "2024-02-12T16:12:16.359986Z",
          "iopub.execute_input": "2024-02-12T16:12:16.360832Z",
          "iopub.status.idle": "2024-02-12T16:12:24.670846Z",
          "shell.execute_reply.started": "2024-02-12T16:12:16.360791Z",
          "shell.execute_reply": "2024-02-12T16:12:24.669395Z"
        },
        "trusted": true,
        "id": "11Q9yWpSGkZL"
      },
      "execution_count": null,
      "outputs": []
    },
    {
      "cell_type": "code",
      "source": [
        "train_data.head()"
      ],
      "metadata": {
        "execution": {
          "iopub.status.busy": "2024-02-12T16:12:24.672211Z",
          "iopub.execute_input": "2024-02-12T16:12:24.672622Z",
          "iopub.status.idle": "2024-02-12T16:12:24.705376Z",
          "shell.execute_reply.started": "2024-02-12T16:12:24.672588Z",
          "shell.execute_reply": "2024-02-12T16:12:24.704259Z"
        },
        "trusted": true,
        "id": "0tA0amULGkZL",
        "outputId": "01b928a0-8f19-4e83-dda0-adf075843246"
      },
      "execution_count": null,
      "outputs": [
        {
          "execution_count": 3,
          "output_type": "execute_result",
          "data": {
            "text/plain": "   label  pixel0  pixel1  pixel2  pixel3  pixel4  pixel5  pixel6  pixel7  \\\n0      1       0       0       0       0       0       0       0       0   \n1      0       0       0       0       0       0       0       0       0   \n2      1       0       0       0       0       0       0       0       0   \n3      4       0       0       0       0       0       0       0       0   \n4      0       0       0       0       0       0       0       0       0   \n\n   pixel8  ...  pixel774  pixel775  pixel776  pixel777  pixel778  pixel779  \\\n0       0  ...         0         0         0         0         0         0   \n1       0  ...         0         0         0         0         0         0   \n2       0  ...         0         0         0         0         0         0   \n3       0  ...         0         0         0         0         0         0   \n4       0  ...         0         0         0         0         0         0   \n\n   pixel780  pixel781  pixel782  pixel783  \n0         0         0         0         0  \n1         0         0         0         0  \n2         0         0         0         0  \n3         0         0         0         0  \n4         0         0         0         0  \n\n[5 rows x 785 columns]",
            "text/html": "<div>\n<style scoped>\n    .dataframe tbody tr th:only-of-type {\n        vertical-align: middle;\n    }\n\n    .dataframe tbody tr th {\n        vertical-align: top;\n    }\n\n    .dataframe thead th {\n        text-align: right;\n    }\n</style>\n<table border=\"1\" class=\"dataframe\">\n  <thead>\n    <tr style=\"text-align: right;\">\n      <th></th>\n      <th>label</th>\n      <th>pixel0</th>\n      <th>pixel1</th>\n      <th>pixel2</th>\n      <th>pixel3</th>\n      <th>pixel4</th>\n      <th>pixel5</th>\n      <th>pixel6</th>\n      <th>pixel7</th>\n      <th>pixel8</th>\n      <th>...</th>\n      <th>pixel774</th>\n      <th>pixel775</th>\n      <th>pixel776</th>\n      <th>pixel777</th>\n      <th>pixel778</th>\n      <th>pixel779</th>\n      <th>pixel780</th>\n      <th>pixel781</th>\n      <th>pixel782</th>\n      <th>pixel783</th>\n    </tr>\n  </thead>\n  <tbody>\n    <tr>\n      <th>0</th>\n      <td>1</td>\n      <td>0</td>\n      <td>0</td>\n      <td>0</td>\n      <td>0</td>\n      <td>0</td>\n      <td>0</td>\n      <td>0</td>\n      <td>0</td>\n      <td>0</td>\n      <td>...</td>\n      <td>0</td>\n      <td>0</td>\n      <td>0</td>\n      <td>0</td>\n      <td>0</td>\n      <td>0</td>\n      <td>0</td>\n      <td>0</td>\n      <td>0</td>\n      <td>0</td>\n    </tr>\n    <tr>\n      <th>1</th>\n      <td>0</td>\n      <td>0</td>\n      <td>0</td>\n      <td>0</td>\n      <td>0</td>\n      <td>0</td>\n      <td>0</td>\n      <td>0</td>\n      <td>0</td>\n      <td>0</td>\n      <td>...</td>\n      <td>0</td>\n      <td>0</td>\n      <td>0</td>\n      <td>0</td>\n      <td>0</td>\n      <td>0</td>\n      <td>0</td>\n      <td>0</td>\n      <td>0</td>\n      <td>0</td>\n    </tr>\n    <tr>\n      <th>2</th>\n      <td>1</td>\n      <td>0</td>\n      <td>0</td>\n      <td>0</td>\n      <td>0</td>\n      <td>0</td>\n      <td>0</td>\n      <td>0</td>\n      <td>0</td>\n      <td>0</td>\n      <td>...</td>\n      <td>0</td>\n      <td>0</td>\n      <td>0</td>\n      <td>0</td>\n      <td>0</td>\n      <td>0</td>\n      <td>0</td>\n      <td>0</td>\n      <td>0</td>\n      <td>0</td>\n    </tr>\n    <tr>\n      <th>3</th>\n      <td>4</td>\n      <td>0</td>\n      <td>0</td>\n      <td>0</td>\n      <td>0</td>\n      <td>0</td>\n      <td>0</td>\n      <td>0</td>\n      <td>0</td>\n      <td>0</td>\n      <td>...</td>\n      <td>0</td>\n      <td>0</td>\n      <td>0</td>\n      <td>0</td>\n      <td>0</td>\n      <td>0</td>\n      <td>0</td>\n      <td>0</td>\n      <td>0</td>\n      <td>0</td>\n    </tr>\n    <tr>\n      <th>4</th>\n      <td>0</td>\n      <td>0</td>\n      <td>0</td>\n      <td>0</td>\n      <td>0</td>\n      <td>0</td>\n      <td>0</td>\n      <td>0</td>\n      <td>0</td>\n      <td>0</td>\n      <td>...</td>\n      <td>0</td>\n      <td>0</td>\n      <td>0</td>\n      <td>0</td>\n      <td>0</td>\n      <td>0</td>\n      <td>0</td>\n      <td>0</td>\n      <td>0</td>\n      <td>0</td>\n    </tr>\n  </tbody>\n</table>\n<p>5 rows × 785 columns</p>\n</div>"
          },
          "metadata": {}
        }
      ]
    },
    {
      "cell_type": "code",
      "source": [
        "test_data.head()"
      ],
      "metadata": {
        "execution": {
          "iopub.status.busy": "2024-02-12T16:12:24.707905Z",
          "iopub.execute_input": "2024-02-12T16:12:24.708357Z",
          "iopub.status.idle": "2024-02-12T16:12:24.73648Z",
          "shell.execute_reply.started": "2024-02-12T16:12:24.708321Z",
          "shell.execute_reply": "2024-02-12T16:12:24.734896Z"
        },
        "trusted": true,
        "id": "9dlxMyoHGkZM",
        "outputId": "5f7d384e-187b-40d7-d01f-824bd89e6884"
      },
      "execution_count": null,
      "outputs": [
        {
          "execution_count": 4,
          "output_type": "execute_result",
          "data": {
            "text/plain": "   pixel0  pixel1  pixel2  pixel3  pixel4  pixel5  pixel6  pixel7  pixel8  \\\n0       0       0       0       0       0       0       0       0       0   \n1       0       0       0       0       0       0       0       0       0   \n2       0       0       0       0       0       0       0       0       0   \n3       0       0       0       0       0       0       0       0       0   \n4       0       0       0       0       0       0       0       0       0   \n\n   pixel9  ...  pixel774  pixel775  pixel776  pixel777  pixel778  pixel779  \\\n0       0  ...         0         0         0         0         0         0   \n1       0  ...         0         0         0         0         0         0   \n2       0  ...         0         0         0         0         0         0   \n3       0  ...         0         0         0         0         0         0   \n4       0  ...         0         0         0         0         0         0   \n\n   pixel780  pixel781  pixel782  pixel783  \n0         0         0         0         0  \n1         0         0         0         0  \n2         0         0         0         0  \n3         0         0         0         0  \n4         0         0         0         0  \n\n[5 rows x 784 columns]",
            "text/html": "<div>\n<style scoped>\n    .dataframe tbody tr th:only-of-type {\n        vertical-align: middle;\n    }\n\n    .dataframe tbody tr th {\n        vertical-align: top;\n    }\n\n    .dataframe thead th {\n        text-align: right;\n    }\n</style>\n<table border=\"1\" class=\"dataframe\">\n  <thead>\n    <tr style=\"text-align: right;\">\n      <th></th>\n      <th>pixel0</th>\n      <th>pixel1</th>\n      <th>pixel2</th>\n      <th>pixel3</th>\n      <th>pixel4</th>\n      <th>pixel5</th>\n      <th>pixel6</th>\n      <th>pixel7</th>\n      <th>pixel8</th>\n      <th>pixel9</th>\n      <th>...</th>\n      <th>pixel774</th>\n      <th>pixel775</th>\n      <th>pixel776</th>\n      <th>pixel777</th>\n      <th>pixel778</th>\n      <th>pixel779</th>\n      <th>pixel780</th>\n      <th>pixel781</th>\n      <th>pixel782</th>\n      <th>pixel783</th>\n    </tr>\n  </thead>\n  <tbody>\n    <tr>\n      <th>0</th>\n      <td>0</td>\n      <td>0</td>\n      <td>0</td>\n      <td>0</td>\n      <td>0</td>\n      <td>0</td>\n      <td>0</td>\n      <td>0</td>\n      <td>0</td>\n      <td>0</td>\n      <td>...</td>\n      <td>0</td>\n      <td>0</td>\n      <td>0</td>\n      <td>0</td>\n      <td>0</td>\n      <td>0</td>\n      <td>0</td>\n      <td>0</td>\n      <td>0</td>\n      <td>0</td>\n    </tr>\n    <tr>\n      <th>1</th>\n      <td>0</td>\n      <td>0</td>\n      <td>0</td>\n      <td>0</td>\n      <td>0</td>\n      <td>0</td>\n      <td>0</td>\n      <td>0</td>\n      <td>0</td>\n      <td>0</td>\n      <td>...</td>\n      <td>0</td>\n      <td>0</td>\n      <td>0</td>\n      <td>0</td>\n      <td>0</td>\n      <td>0</td>\n      <td>0</td>\n      <td>0</td>\n      <td>0</td>\n      <td>0</td>\n    </tr>\n    <tr>\n      <th>2</th>\n      <td>0</td>\n      <td>0</td>\n      <td>0</td>\n      <td>0</td>\n      <td>0</td>\n      <td>0</td>\n      <td>0</td>\n      <td>0</td>\n      <td>0</td>\n      <td>0</td>\n      <td>...</td>\n      <td>0</td>\n      <td>0</td>\n      <td>0</td>\n      <td>0</td>\n      <td>0</td>\n      <td>0</td>\n      <td>0</td>\n      <td>0</td>\n      <td>0</td>\n      <td>0</td>\n    </tr>\n    <tr>\n      <th>3</th>\n      <td>0</td>\n      <td>0</td>\n      <td>0</td>\n      <td>0</td>\n      <td>0</td>\n      <td>0</td>\n      <td>0</td>\n      <td>0</td>\n      <td>0</td>\n      <td>0</td>\n      <td>...</td>\n      <td>0</td>\n      <td>0</td>\n      <td>0</td>\n      <td>0</td>\n      <td>0</td>\n      <td>0</td>\n      <td>0</td>\n      <td>0</td>\n      <td>0</td>\n      <td>0</td>\n    </tr>\n    <tr>\n      <th>4</th>\n      <td>0</td>\n      <td>0</td>\n      <td>0</td>\n      <td>0</td>\n      <td>0</td>\n      <td>0</td>\n      <td>0</td>\n      <td>0</td>\n      <td>0</td>\n      <td>0</td>\n      <td>...</td>\n      <td>0</td>\n      <td>0</td>\n      <td>0</td>\n      <td>0</td>\n      <td>0</td>\n      <td>0</td>\n      <td>0</td>\n      <td>0</td>\n      <td>0</td>\n      <td>0</td>\n    </tr>\n  </tbody>\n</table>\n<p>5 rows × 784 columns</p>\n</div>"
          },
          "metadata": {}
        }
      ]
    },
    {
      "cell_type": "code",
      "source": [
        "train_data.shape"
      ],
      "metadata": {
        "execution": {
          "iopub.status.busy": "2024-02-12T16:12:24.738288Z",
          "iopub.execute_input": "2024-02-12T16:12:24.738815Z",
          "iopub.status.idle": "2024-02-12T16:12:24.749791Z",
          "shell.execute_reply.started": "2024-02-12T16:12:24.738769Z",
          "shell.execute_reply": "2024-02-12T16:12:24.748508Z"
        },
        "trusted": true,
        "id": "M4z0MjCxGkZM",
        "outputId": "9d002bb6-78d0-4a3f-82e5-7763430e4b7c"
      },
      "execution_count": null,
      "outputs": [
        {
          "execution_count": 5,
          "output_type": "execute_result",
          "data": {
            "text/plain": "(42000, 785)"
          },
          "metadata": {}
        }
      ]
    },
    {
      "cell_type": "code",
      "source": [
        "test_data.shape"
      ],
      "metadata": {
        "execution": {
          "iopub.status.busy": "2024-02-12T16:12:24.751458Z",
          "iopub.execute_input": "2024-02-12T16:12:24.752069Z",
          "iopub.status.idle": "2024-02-12T16:12:24.763768Z",
          "shell.execute_reply.started": "2024-02-12T16:12:24.752033Z",
          "shell.execute_reply": "2024-02-12T16:12:24.762085Z"
        },
        "trusted": true,
        "id": "2DqoDdtyGkZN",
        "outputId": "14164e3f-0f5e-43ce-82c8-4db40309c9f6"
      },
      "execution_count": null,
      "outputs": [
        {
          "execution_count": 6,
          "output_type": "execute_result",
          "data": {
            "text/plain": "(28000, 784)"
          },
          "metadata": {}
        }
      ]
    },
    {
      "cell_type": "code",
      "source": [
        "train_labels= pd.DataFrame()\n",
        "train_labels= train_data['label'].values"
      ],
      "metadata": {
        "execution": {
          "iopub.status.busy": "2024-02-12T16:12:24.765673Z",
          "iopub.execute_input": "2024-02-12T16:12:24.766629Z",
          "iopub.status.idle": "2024-02-12T16:12:24.779941Z",
          "shell.execute_reply.started": "2024-02-12T16:12:24.766588Z",
          "shell.execute_reply": "2024-02-12T16:12:24.778763Z"
        },
        "trusted": true,
        "id": "ImaizCDoGkZN"
      },
      "execution_count": null,
      "outputs": []
    },
    {
      "cell_type": "code",
      "source": [
        "train_data.head()"
      ],
      "metadata": {
        "execution": {
          "iopub.status.busy": "2024-02-12T16:12:24.781929Z",
          "iopub.execute_input": "2024-02-12T16:12:24.78255Z",
          "iopub.status.idle": "2024-02-12T16:12:24.813728Z",
          "shell.execute_reply.started": "2024-02-12T16:12:24.7825Z",
          "shell.execute_reply": "2024-02-12T16:12:24.812093Z"
        },
        "trusted": true,
        "id": "hzlMivfjGkZN",
        "outputId": "7bac09c9-e564-42f8-a19d-918aad4191c2"
      },
      "execution_count": null,
      "outputs": [
        {
          "execution_count": 8,
          "output_type": "execute_result",
          "data": {
            "text/plain": "   label  pixel0  pixel1  pixel2  pixel3  pixel4  pixel5  pixel6  pixel7  \\\n0      1       0       0       0       0       0       0       0       0   \n1      0       0       0       0       0       0       0       0       0   \n2      1       0       0       0       0       0       0       0       0   \n3      4       0       0       0       0       0       0       0       0   \n4      0       0       0       0       0       0       0       0       0   \n\n   pixel8  ...  pixel774  pixel775  pixel776  pixel777  pixel778  pixel779  \\\n0       0  ...         0         0         0         0         0         0   \n1       0  ...         0         0         0         0         0         0   \n2       0  ...         0         0         0         0         0         0   \n3       0  ...         0         0         0         0         0         0   \n4       0  ...         0         0         0         0         0         0   \n\n   pixel780  pixel781  pixel782  pixel783  \n0         0         0         0         0  \n1         0         0         0         0  \n2         0         0         0         0  \n3         0         0         0         0  \n4         0         0         0         0  \n\n[5 rows x 785 columns]",
            "text/html": "<div>\n<style scoped>\n    .dataframe tbody tr th:only-of-type {\n        vertical-align: middle;\n    }\n\n    .dataframe tbody tr th {\n        vertical-align: top;\n    }\n\n    .dataframe thead th {\n        text-align: right;\n    }\n</style>\n<table border=\"1\" class=\"dataframe\">\n  <thead>\n    <tr style=\"text-align: right;\">\n      <th></th>\n      <th>label</th>\n      <th>pixel0</th>\n      <th>pixel1</th>\n      <th>pixel2</th>\n      <th>pixel3</th>\n      <th>pixel4</th>\n      <th>pixel5</th>\n      <th>pixel6</th>\n      <th>pixel7</th>\n      <th>pixel8</th>\n      <th>...</th>\n      <th>pixel774</th>\n      <th>pixel775</th>\n      <th>pixel776</th>\n      <th>pixel777</th>\n      <th>pixel778</th>\n      <th>pixel779</th>\n      <th>pixel780</th>\n      <th>pixel781</th>\n      <th>pixel782</th>\n      <th>pixel783</th>\n    </tr>\n  </thead>\n  <tbody>\n    <tr>\n      <th>0</th>\n      <td>1</td>\n      <td>0</td>\n      <td>0</td>\n      <td>0</td>\n      <td>0</td>\n      <td>0</td>\n      <td>0</td>\n      <td>0</td>\n      <td>0</td>\n      <td>0</td>\n      <td>...</td>\n      <td>0</td>\n      <td>0</td>\n      <td>0</td>\n      <td>0</td>\n      <td>0</td>\n      <td>0</td>\n      <td>0</td>\n      <td>0</td>\n      <td>0</td>\n      <td>0</td>\n    </tr>\n    <tr>\n      <th>1</th>\n      <td>0</td>\n      <td>0</td>\n      <td>0</td>\n      <td>0</td>\n      <td>0</td>\n      <td>0</td>\n      <td>0</td>\n      <td>0</td>\n      <td>0</td>\n      <td>0</td>\n      <td>...</td>\n      <td>0</td>\n      <td>0</td>\n      <td>0</td>\n      <td>0</td>\n      <td>0</td>\n      <td>0</td>\n      <td>0</td>\n      <td>0</td>\n      <td>0</td>\n      <td>0</td>\n    </tr>\n    <tr>\n      <th>2</th>\n      <td>1</td>\n      <td>0</td>\n      <td>0</td>\n      <td>0</td>\n      <td>0</td>\n      <td>0</td>\n      <td>0</td>\n      <td>0</td>\n      <td>0</td>\n      <td>0</td>\n      <td>...</td>\n      <td>0</td>\n      <td>0</td>\n      <td>0</td>\n      <td>0</td>\n      <td>0</td>\n      <td>0</td>\n      <td>0</td>\n      <td>0</td>\n      <td>0</td>\n      <td>0</td>\n    </tr>\n    <tr>\n      <th>3</th>\n      <td>4</td>\n      <td>0</td>\n      <td>0</td>\n      <td>0</td>\n      <td>0</td>\n      <td>0</td>\n      <td>0</td>\n      <td>0</td>\n      <td>0</td>\n      <td>0</td>\n      <td>...</td>\n      <td>0</td>\n      <td>0</td>\n      <td>0</td>\n      <td>0</td>\n      <td>0</td>\n      <td>0</td>\n      <td>0</td>\n      <td>0</td>\n      <td>0</td>\n      <td>0</td>\n    </tr>\n    <tr>\n      <th>4</th>\n      <td>0</td>\n      <td>0</td>\n      <td>0</td>\n      <td>0</td>\n      <td>0</td>\n      <td>0</td>\n      <td>0</td>\n      <td>0</td>\n      <td>0</td>\n      <td>0</td>\n      <td>...</td>\n      <td>0</td>\n      <td>0</td>\n      <td>0</td>\n      <td>0</td>\n      <td>0</td>\n      <td>0</td>\n      <td>0</td>\n      <td>0</td>\n      <td>0</td>\n      <td>0</td>\n    </tr>\n  </tbody>\n</table>\n<p>5 rows × 785 columns</p>\n</div>"
          },
          "metadata": {}
        }
      ]
    },
    {
      "cell_type": "code",
      "source": [
        "train_data1=pd.DataFrame()\n",
        "train_data1= train_data.iloc[:, 1:]"
      ],
      "metadata": {
        "execution": {
          "iopub.status.busy": "2024-02-12T16:12:24.816623Z",
          "iopub.execute_input": "2024-02-12T16:12:24.817354Z",
          "iopub.status.idle": "2024-02-12T16:12:24.827837Z",
          "shell.execute_reply.started": "2024-02-12T16:12:24.817303Z",
          "shell.execute_reply": "2024-02-12T16:12:24.825727Z"
        },
        "trusted": true,
        "id": "25KW27DpGkZO"
      },
      "execution_count": null,
      "outputs": []
    },
    {
      "cell_type": "code",
      "source": [
        "train_data1= train_data1.astype('float32')/255\n",
        "test_data= test_data.astype('float32')/255"
      ],
      "metadata": {
        "execution": {
          "iopub.status.busy": "2024-02-12T16:12:24.833962Z",
          "iopub.execute_input": "2024-02-12T16:12:24.83474Z",
          "iopub.status.idle": "2024-02-12T16:12:25.272685Z",
          "shell.execute_reply.started": "2024-02-12T16:12:24.83469Z",
          "shell.execute_reply": "2024-02-12T16:12:25.27128Z"
        },
        "trusted": true,
        "id": "kHv4MAsnGkZO"
      },
      "execution_count": null,
      "outputs": []
    },
    {
      "cell_type": "code",
      "source": [
        "train_labels= to_categorical(train_labels)"
      ],
      "metadata": {
        "execution": {
          "iopub.status.busy": "2024-02-12T16:12:25.274388Z",
          "iopub.execute_input": "2024-02-12T16:12:25.274884Z",
          "iopub.status.idle": "2024-02-12T16:12:25.282973Z",
          "shell.execute_reply.started": "2024-02-12T16:12:25.274841Z",
          "shell.execute_reply": "2024-02-12T16:12:25.281417Z"
        },
        "trusted": true,
        "id": "vskywDiHGkZP"
      },
      "execution_count": null,
      "outputs": []
    },
    {
      "cell_type": "code",
      "source": [
        "train_labels[0]"
      ],
      "metadata": {
        "execution": {
          "iopub.status.busy": "2024-02-12T16:12:25.286087Z",
          "iopub.execute_input": "2024-02-12T16:12:25.286718Z",
          "iopub.status.idle": "2024-02-12T16:12:25.297755Z",
          "shell.execute_reply.started": "2024-02-12T16:12:25.286671Z",
          "shell.execute_reply": "2024-02-12T16:12:25.295687Z"
        },
        "trusted": true,
        "id": "Vuwc73k6GkZP",
        "outputId": "623a7767-5ff6-4e04-8f41-d660d358c3c5"
      },
      "execution_count": null,
      "outputs": [
        {
          "execution_count": 12,
          "output_type": "execute_result",
          "data": {
            "text/plain": "array([0., 1., 0., 0., 0., 0., 0., 0., 0., 0.], dtype=float32)"
          },
          "metadata": {}
        }
      ]
    },
    {
      "cell_type": "code",
      "source": [
        "train_labels.shape"
      ],
      "metadata": {
        "execution": {
          "iopub.status.busy": "2024-02-12T16:12:25.300042Z",
          "iopub.execute_input": "2024-02-12T16:12:25.300498Z",
          "iopub.status.idle": "2024-02-12T16:12:25.310978Z",
          "shell.execute_reply.started": "2024-02-12T16:12:25.300466Z",
          "shell.execute_reply": "2024-02-12T16:12:25.30943Z"
        },
        "trusted": true,
        "id": "N8aPmWjJGkZP",
        "outputId": "b6be1053-a478-444f-b281-46a9b776e3f4"
      },
      "execution_count": null,
      "outputs": [
        {
          "execution_count": 13,
          "output_type": "execute_result",
          "data": {
            "text/plain": "(42000, 10)"
          },
          "metadata": {}
        }
      ]
    },
    {
      "cell_type": "code",
      "source": [
        "train_data1.shape"
      ],
      "metadata": {
        "execution": {
          "iopub.status.busy": "2024-02-12T16:12:25.313464Z",
          "iopub.execute_input": "2024-02-12T16:12:25.314045Z",
          "iopub.status.idle": "2024-02-12T16:12:25.322773Z",
          "shell.execute_reply.started": "2024-02-12T16:12:25.313997Z",
          "shell.execute_reply": "2024-02-12T16:12:25.321243Z"
        },
        "trusted": true,
        "id": "zEnzYMThGkZP",
        "outputId": "34354359-8fba-4bca-ad74-584b26ea98b7"
      },
      "execution_count": null,
      "outputs": [
        {
          "execution_count": 14,
          "output_type": "execute_result",
          "data": {
            "text/plain": "(42000, 784)"
          },
          "metadata": {}
        }
      ]
    },
    {
      "cell_type": "code",
      "source": [
        "from tensorflow.keras.models import Sequential\n",
        "from tensorflow.keras.layers import Dense, Flatten, Conv2D, MaxPooling2D\n",
        "\n",
        "def create_cnn_model():\n",
        "    model_cnn= Sequential()\n",
        "    model_cnn.add(Conv2D(32, kernel_size= (3,3), activation= 'relu', input_shape= (28,28,1)))\n",
        "    model_cnn.add(MaxPooling2D(pool_size= (2,2)))\n",
        "    model_cnn.add(Conv2D(64, kernel_size= (3,3), activation= 'relu'))\n",
        "    model_cnn.add(MaxPooling2D(pool_size= (2,2)))\n",
        "    model_cnn.add(Flatten())\n",
        "    model_cnn.add(Dense(384, activation= 'relu'))\n",
        "    model_cnn.add(Dense(384, activation= 'relu'))\n",
        "    model_cnn.add(Dense(10, activation = 'softmax'))\n",
        "    model_cnn.compile(optimizer= 'adam', loss= 'categorical_crossentropy', metrics= ['accuracy'])\n",
        "    return model_cnn"
      ],
      "metadata": {
        "execution": {
          "iopub.status.busy": "2024-02-12T16:12:25.324791Z",
          "iopub.execute_input": "2024-02-12T16:12:25.325264Z",
          "iopub.status.idle": "2024-02-12T16:12:25.341843Z",
          "shell.execute_reply.started": "2024-02-12T16:12:25.325214Z",
          "shell.execute_reply": "2024-02-12T16:12:25.340577Z"
        },
        "trusted": true,
        "id": "ac-VbviwGkZQ"
      },
      "execution_count": null,
      "outputs": []
    },
    {
      "cell_type": "code",
      "source": [
        "train_labels = train_data['label'].values\n",
        "\n",
        "# Remove the label column\n",
        "train_data = train_data.drop(columns=['label'])\n",
        "\n",
        "# Reshape the train data\n",
        "train_data_reshaped = train_data.values.reshape(-1, 28, 28, 1)\n",
        "\n",
        "# Normalize the pixel values\n",
        "train_data_reshaped = train_data_reshaped.astype('float32') / 255.0\n",
        "\n",
        "train_labels = to_categorical(train_labels)\n",
        "\n",
        "# Check the shape of train_data_reshaped and train_labels\n",
        "print(\"Shape of train_data_reshaped:\", train_data_reshaped.shape)\n",
        "print(\"Shape of train_labels:\", train_labels.shape)"
      ],
      "metadata": {
        "execution": {
          "iopub.status.busy": "2024-02-12T16:12:25.342974Z",
          "iopub.execute_input": "2024-02-12T16:12:25.343345Z",
          "iopub.status.idle": "2024-02-12T16:12:25.892247Z",
          "shell.execute_reply.started": "2024-02-12T16:12:25.343314Z",
          "shell.execute_reply": "2024-02-12T16:12:25.891077Z"
        },
        "trusted": true,
        "id": "UON845eyGkZQ",
        "outputId": "f553b8b6-6cf3-4ba1-ea38-218980800a5c"
      },
      "execution_count": null,
      "outputs": [
        {
          "name": "stdout",
          "text": "Shape of train_data_reshaped: (42000, 28, 28, 1)\nShape of train_labels: (42000, 10)\n",
          "output_type": "stream"
        }
      ]
    },
    {
      "cell_type": "code",
      "source": [
        "# Check if training data is empty\n",
        "if train_data_reshaped.shape[0] == 0:\n",
        "    print(\"Training data is empty. Please check data loading and preprocessing.\")\n",
        "else:\n",
        "    model_cnn = create_cnn_model()\n",
        "    # Train the model\n",
        "    history = model_cnn.fit(train_data_reshaped, train_labels, epochs=10, batch_size=128, validation_split=0.25)\n",
        "\n",
        "    # Evaluate validation accuracy\n",
        "    validation_accuracy = history.history['val_accuracy'][-1]\n",
        "    print(f\"Validation Accuracy: {validation_accuracy * 100}\")\n"
      ],
      "metadata": {
        "execution": {
          "iopub.status.busy": "2024-02-12T16:12:25.893827Z",
          "iopub.execute_input": "2024-02-12T16:12:25.894215Z"
        },
        "trusted": true,
        "id": "y7HnOun3GkZQ",
        "outputId": "9d937881-8cf8-4911-b8f1-aa7dd8abb38e"
      },
      "execution_count": null,
      "outputs": [
        {
          "name": "stdout",
          "text": "Epoch 1/10\n247/247 [==============================] - 20s 74ms/step - loss: 0.2680 - accuracy: 0.9216 - val_loss: 0.0732 - val_accuracy: 0.9753\nEpoch 2/10\n247/247 [==============================] - 17s 69ms/step - loss: 0.0618 - accuracy: 0.9811 - val_loss: 0.0464 - val_accuracy: 0.9870\nEpoch 3/10\n247/247 [==============================] - 17s 69ms/step - loss: 0.0383 - accuracy: 0.9880 - val_loss: 0.0384 - val_accuracy: 0.9879\nEpoch 4/10\n247/247 [==============================] - 16s 67ms/step - loss: 0.0265 - accuracy: 0.9911 - val_loss: 0.0446 - val_accuracy: 0.9853\nEpoch 5/10\n247/247 [==============================] - 16s 64ms/step - loss: 0.0200 - accuracy: 0.9938 - val_loss: 0.0443 - val_accuracy: 0.9881\nEpoch 6/10\n247/247 [==============================] - 16s 67ms/step - loss: 0.0176 - accuracy: 0.9945 - val_loss: 0.0360 - val_accuracy: 0.9898\nEpoch 7/10\n247/247 [==============================] - 17s 69ms/step - loss: 0.0114 - accuracy: 0.9964 - val_loss: 0.0479 - val_accuracy: 0.9873\nEpoch 8/10\n247/247 [==============================] - 17s 67ms/step - loss: 0.0112 - accuracy: 0.9963 - val_loss: 0.0452 - val_accuracy: 0.9886\nEpoch 9/10\n247/247 [==============================] - 16s 65ms/step - loss: 0.0105 - accuracy: 0.9966 - val_loss: 0.0418 - val_accuracy: 0.9899\nEpoch 10/10\n 61/247 [======>.......................] - ETA: 12s - loss: 0.0066 - accuracy: 0.9982",
          "output_type": "stream"
        }
      ]
    },
    {
      "cell_type": "code",
      "source": [
        "test_data_arr= test_data.to_numpy()\n",
        "\n",
        "test_data_reshaped= test_data_arr.reshape((-1,28,28,1))\n",
        "\n",
        "predictions= model_cnn.predict(test_data_reshaped)"
      ],
      "metadata": {
        "trusted": true,
        "id": "jDWPnxuDGkZQ"
      },
      "execution_count": null,
      "outputs": []
    },
    {
      "cell_type": "code",
      "source": [
        "import numpy as np\n",
        "predicted_classes= np.argmax(predictions, axis=1)"
      ],
      "metadata": {
        "trusted": true,
        "id": "zTo97IiKGkZQ"
      },
      "execution_count": null,
      "outputs": []
    },
    {
      "cell_type": "code",
      "source": [
        "results= pd.Series(predicted_classes, name=\"Label\")\n",
        "submission= pd.concat([pd.Series(range(1,28001), name=\"ImageId\"), results], axis=1)\n",
        "submission.to_csv(\"submission.csv\", index=False)"
      ],
      "metadata": {
        "trusted": true,
        "id": "-AcqTZxcGkZQ"
      },
      "execution_count": null,
      "outputs": []
    },
    {
      "cell_type": "code",
      "source": [
        "submission"
      ],
      "metadata": {
        "trusted": true,
        "id": "8FRv0CsHGkZV"
      },
      "execution_count": null,
      "outputs": []
    }
  ]
}